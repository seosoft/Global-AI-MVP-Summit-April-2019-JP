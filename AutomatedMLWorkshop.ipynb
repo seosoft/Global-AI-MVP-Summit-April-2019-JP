{
  "cells": [
    {
      "metadata": {},
      "cell_type": "markdown",
      "source": "Copyright (c) Microsoft Corporation. All rights reserved.\n\nLicensed under the MIT License."
    },
    {
      "metadata": {},
      "cell_type": "markdown",
      "source": "# [Automated Machine Learning](https://docs.microsoft.com/en-us/azure/machine-learning/service/concept-automated-ml)\nこの例では、Automated ML をエネルギー需要予測に使用する方法を示します。このノートブックはデモ用です。 <b>Automated ML フィードバック：AskAutomatedML@Microsoft.com</b>\n\n## 手順\n1. Jupyter Notebook の使い方\n2. シナリオ\n3. データ\n4. 学習\n5. デプロイ"
    },
    {
      "metadata": {},
      "cell_type": "markdown",
      "source": "# Jupyter Notebook の使い方:\nこのワークショップでは、Azure Notebooks Service によってホストされている Jupyter ノートブックを使用します。あなたが Jupyter に精通しているならば、このセルを飛ばしてください。そうでない場合は、ここでいくつかのヒントがあります。\n\n* Python 3.6 のカーネルを選択してください。  \n* Jupyter には「セル」があります。ノートブックのどこかをクリックすると、ポインタを含むセルが選択されます。  \n* セル内のコードを実行または実行するには、トップメニューで [セル]-[セルの実行] を選択します。または、Shift + Enterキーを使用することもできます。  \n* セルを編集するには - セルをダブルクリックします。  \n* セルを実行すると、セルの左側の外側にあるポインタが [ ] から [ \* ] に変わります。セルの実行が終了すると、[ \* ] が数字に変わります。  \n* ノートブックまたはセルがハングした場合は、トップメニューからノートブック全体の [Kernel]-[Restart Kernel and Clear All Outputs] を選択するか、そのセルだけを選択して [Kernel]-[Interrupt kernel] を選択します。再起動には数秒かかり、その後ですべてのセルを再実行する必要があります。  \n\nJupyterでは、順番に実行する必要はありません。すでに実行された前のセルに戻って再度実行することができます。特定のセルのコードが、前後のセルと依存関係を持たない限り、問題ありません。"
    },
    {
      "metadata": {},
      "cell_type": "markdown",
      "source": "# シナリオ:\n\nこのシナリオでは、 __エネルギーグリッドの将来の負荷を予測することを目的とした__ エネルギー需要予測に焦点を当てています。事業者は、グリッドで消費されるエネルギーとそれに供給されるエネルギーとの間の微妙なバランスを維持する必要があるため、エネルギー部門の企業にとって重要な事業運営です。グリッドに供給される電力が多すぎると、エネルギーの浪費や技術的な障害が発生する可能性があります。ただし、供給される電力が少なすぎると、停電につながり、顧客に電力が供給されなくなる可能性があります。通常、グリッド事業者は、グリッドへのエネルギー供給を管理し、負荷のバランスを保つために短期的な決定を下すことができます。したがって、オペレータがこれらの決定を自信を持って行うためには、エネルギー需要の正確な短期予測が不可欠です。\n\nこのシナリオでは、機械学習エネルギー需要予測ソリューションの構築について詳しく説明します。このソリューションは、ニューヨーク州の電力網を運営するニューヨーク独立系システムオペレータ（NYISO）の公開データセットでトレーニングされています。このデータセットには、5年間にわたるニューヨーク市の1時間ごとの電力需要データが含まれています。同じ期間におけるニューヨークの1時間ごとの気象条件を含む追加のデータセットを darksky.net から取得しました。\n\nこのノートでは、以下を実行します。\n\n1. 基本のセットアップ：まず Azure Machine Learning ワークスペースを作成する必要があります。Azure Portal または SDK を使って作成することができます。ワークスペースをあなたの同僚と共有して、スクリプトで共同作業することができます。ワークスペースを一度作成すれば、複数の実験を実行して多数のモデルを作成できます。\n\n2. データを準備します: 学習のためにデータを準備します。\n\n3. Automated ML モデルを学習します: Automated ML モデルで生成されたパイプラインパラメーターを使用して学習するために、Azure Notebooks を使用します。\n\n4. 学習結果を通して、多数の異なるモデルメトリクスで構築されたすべてのモデルを分析します。\n\n5. いくつかのテストデータを使って近似モデルをテストする。\n\n6. モデルを展開用に登録し、Azure Machine Learning モデル管理と展開ホスティングに展開する準備をします。"
    },
    {
      "metadata": {},
      "cell_type": "markdown",
      "source": "# 基本のセットアップ\n事前の準備として、Automated ML を実行するために notobook を設定し、Azure Learning Workspace で実験できるように設定し、config.jsonを作成することが必要です。"
    },
    {
      "metadata": {},
      "cell_type": "markdown",
      "source": "## 追加パッケージをインストールする\nあなたが実験を実行するために必要となる最新のパッケージを持っていることを確認するための検証ステップです。"
    },
    {
      "metadata": {
        "trusted": true
      },
      "cell_type": "code",
      "source": "# auto ml core パッケージのアップデート\n!pip install --upgrade azureml-sdk[automl]",
      "execution_count": null,
      "outputs": []
    },
    {
      "metadata": {
        "trusted": true
      },
      "cell_type": "code",
      "source": "# auto ml core パッケージのアップデート\n!pip install --upgrade azureml-sdk[notebooks]",
      "execution_count": null,
      "outputs": []
    },
    {
      "metadata": {
        "trusted": true
      },
      "cell_type": "code",
      "source": "# auto ml core パッケージのアップデート\n!pip install --upgrade azureml-sdk[explain]",
      "execution_count": null,
      "outputs": []
    },
    {
      "metadata": {
        "trusted": true
      },
      "cell_type": "code",
      "source": "# Swagger 互換性のための Webservice schema （インストールには数分かかります）\n!pip install --upgrade azureml-sdk[webservice-schema]",
      "execution_count": null,
      "outputs": []
    },
    {
      "metadata": {
        "trusted": true
      },
      "cell_type": "code",
      "source": "import azureml.core\n\nprint(\"This notebook was created using version 1.0.17 of the Azure ML SDK\")\nprint(\"You are currently using version\", azureml.core.VERSION, \"of the Azure ML SDK\")",
      "execution_count": null,
      "outputs": []
    },
    {
      "metadata": {},
      "cell_type": "markdown",
      "source": "## Azure ML workspace を構成する\n\n### Workspace パラメーター\n\nAML ワークスペースを使用するには、Azure ML SDK をインポートして次の情報を提供する必要があります。\n\n* Azure サブスクリプション ID\n* リソースグループ名\n* (オプション) ワークスペースをホストするリージョン\n* ワークスペース名\n\n[Azure ポータル](https://portal.azure.com) からサブスクリプション ID を取得できます。\n\nまた、Azureリソースを整理してグループ内のリソースに既定のリージョンを提供する [リソースグループ](https://docs.microsoft.com/en-us/azure/azure-resource-manager/resource-group-overview#resource-groups) にアクセスする必要があります。[Azure ポータル](https://portal.azure.com) で、どのリソースグループにアクセスできるかを確認したり、新しいリソースグループを作成したりできます。リソースグループがない場合は、create workspace コマンドによって、指定した名前のリソースグループが作成できます。\n\n新しいワークスペースを作成している場合は、ワークスペースをホストするリージョンが使用されます。既存のワークスペースを使用している場合は、これを指定する必要はありません。サポートされている地域のリストは [ここ](https://azure.microsoft.com/en-us/global-infrastructure/services/?products=machine-learning-service) にあります。あなたの場所に近いか、あなたのデータを含んでいる地域を選ぶべきです。\n\nワークスペースの名前はサブスクリプション内で一意であり、他の AML ワークスペースと区別できるように分かりやすい名前にする必要があります。サブスクリプションはあなただけが使用することも、自分の部署や企業全体が使用することもありますので、自分の状況に合った名前を選択してください。\n\n次のセルでは、ワークスペースパラメータを指定できます。このセルは python の os.getenv メソッドを使用して環境変数から値を読み取ります。これは自動化に役立ちます。環境変数が存在しない場合、パラメータは指定されたデフォルト値に設定されます。\n\nAzure Notebooks で Azure Machine Learning [クイックスタート](https://docs.microsoft.com/en-us/azure/machine-learning/service/quickstart-get-started) を実行した場合は、既にワークスペースが構成されています。Azure Machine Learning Get Started library にアクセスし、config.jsonファイルを表示して、下のサブスクリプションID、リソースグループ、およびワークスペース名の値をコピーして貼り付けることができます。\n\n下のセルのデフォルト値をワークスペースのパラメータに置き換えます。"
    },
    {
      "metadata": {
        "trusted": true
      },
      "cell_type": "code",
      "source": "import os\n\nsubscription_id = os.getenv(\"SUBSCRIPTION_ID\", default=\"<my-subscription-id>\")\nprint(subscription_id)\nresource_group = os.getenv(\"RESOURCE_GROUP\", default=\"my-automl-workshop-rg\")\nprint(resource_group)\nworkspace_name = os.getenv(\"WORKSPACE_NAME\", default=\"my-automl-workshop-ws\")\nprint(workspace_name)\nworkspace_region = os.getenv(\"WORKSPACE_REGION\", default=\"eastus2\")\nprint(workspace_region)",
      "execution_count": null,
      "outputs": []
    },
    {
      "metadata": {},
      "cell_type": "markdown",
      "source": "### ワークスペースにアクセスする\n\n次のセルは Azure ML SDKを使用して、パラメーターで指定されたワークスペースを読み込もうとします。 このセルが成功すると、Workspace.from_config() メソッドを使用して、ノートブックライブラリがノートブック全体からワークスペースにアクセスするように設定されます。指定されたワークスペースが存在しないか、アクセス権限がない場合、セルの実行は失敗する可能性があります。\n\n**訳注** Azure 状にワークスペースがまだない場合、または新しいワークスペースを作成したい場合は、次のセルを実行せずに、**新しいワークスペースを作成する** の次のセルを実行してください。"
    },
    {
      "metadata": {
        "trusted": true
      },
      "cell_type": "code",
      "source": "from azureml.core import Workspace\n\ntry:\n    ws = Workspace(subscription_id = subscription_id, resource_group = resource_group, workspace_name = workspace_name)\n    # ワークスペースの詳細を Notebook ライブラリの設定ファイルに保存\n    ws.write_config()\n    print(\"Workspace configuration succeeded. Skip the workspace creation steps below\")\nexcept:\n    print(\"Workspace not accessible. Change your parameters or create a new workspace below\")",
      "execution_count": null,
      "outputs": []
    },
    {
      "metadata": {},
      "cell_type": "markdown",
      "source": "注意: Azure CLI ログイン認証情報を使用するようにフォールバックします。 コードを無人モード、つまりユーザーが入力できない場所で実行する場合は、ServicePrincipalAuthentication または MsiAuthentication を使用することをお勧めします。 azureml-sdk のさまざまな認証メカニズムについては、[aka.ms/aml-notebook-auth](aka.ms/aml-notebook-auth) を参照してください。"
    },
    {
      "metadata": {},
      "cell_type": "markdown",
      "source": "### 新しいワークスペースを作成する\n\n**訳注** 既に利用可能なワークスペースがあり、上のセルで **ワークスペースにアクセス** できている場合は、次のセルを実行する必要はありません。\n\n既存のワークスペースがなく、サブスクリプションまたはリソースグループの所有者である場合は、新しいワークスペースを作成できます。リソースグループがない場合は、create workspace コマンドによって、指定した名前を使用してリソースグループが作成されます。\n\n**注意**: 他のAzureサービスと同様に、Azure MLサービスに関連付けられている特定のリソース（AmlComputeクォータなど）には制限があります。デフォルトの制限と、より多くのクォータを要求する方法についての [この記事](https://docs.microsoft.com/en-us/azure/machine-learning/service/how-to-manage-quotas) を読んでください。\n\n正しいアクセス許可を持っていれば、このセルはサブスクリプション内に Azure ML ワークスペースを作成します。\n\n以下の場合には、ワークスペースの作成に失敗します:  \n* リソースグループにワークスペースを作成する権限がない  \n* リソースグループが存在しない場合は、ワークスペースを作成する権限がない  \n* サブスクリプションの所有者でも共同作成者でもなく、このサブスクリプションで Azure ML ワークスペースがこれまでに作成されていない。\n\nワークスペースの作成に失敗した場合は、IT 管理者と協力して適切な権限を提供してもらうか、必要なリソースをプロビジョニングしてもらってください。"
    },
    {
      "metadata": {
        "trusted": true
      },
      "cell_type": "code",
      "source": "from azureml.core import Workspace\n\n# 指定されたパラメーターでワークスペースを作成\nws = Workspace.create(name = workspace_name,\n                      subscription_id = subscription_id,\n                      resource_group = resource_group, \n                      location = workspace_region,\n                      create_resource_group = True,\n                      exist_ok = True)\nws.get_details()\n\n# ワークスペースの詳細を Notebook ライブラリを使って、設定ファイルに書き込む\nws.write_config()",
      "execution_count": 1,
      "outputs": [
        {
          "output_type": "error",
          "ename": "NameError",
          "evalue": "name 'workspace_name' is not defined",
          "traceback": [
            "\u001b[0;31m---------------------------------------------------------------------------\u001b[0m",
            "\u001b[0;31mNameError\u001b[0m                                 Traceback (most recent call last)",
            "\u001b[0;32m<ipython-input-1-1b3aa8e4c68b>\u001b[0m in \u001b[0;36m<module>\u001b[0;34m\u001b[0m\n\u001b[1;32m      2\u001b[0m \u001b[0;34m\u001b[0m\u001b[0m\n\u001b[1;32m      3\u001b[0m \u001b[0;31m# 指定されたパラメーターでワークスペースを作成\u001b[0m\u001b[0;34m\u001b[0m\u001b[0;34m\u001b[0m\u001b[0m\n\u001b[0;32m----> 4\u001b[0;31m ws = Workspace.create(name = workspace_name,\n\u001b[0m\u001b[1;32m      5\u001b[0m                       \u001b[0msubscription_id\u001b[0m \u001b[0;34m=\u001b[0m \u001b[0msubscription_id\u001b[0m\u001b[0;34m,\u001b[0m\u001b[0;34m\u001b[0m\u001b[0m\n\u001b[1;32m      6\u001b[0m                       \u001b[0mresource_group\u001b[0m \u001b[0;34m=\u001b[0m \u001b[0mresource_group\u001b[0m\u001b[0;34m,\u001b[0m\u001b[0;34m\u001b[0m\u001b[0m\n",
            "\u001b[0;31mNameError\u001b[0m: name 'workspace_name' is not defined"
          ]
        }
      ]
    },
    {
      "metadata": {},
      "cell_type": "markdown",
      "source": "# 実験の設定\n実験に必要なパッケージをインストールします。"
    },
    {
      "metadata": {
        "trusted": true
      },
      "cell_type": "code",
      "source": "# ライブラリのインポート\nimport azureml.core\nimport pandas as pd\nimport numpy as np\nimport logging\nimport warnings\n# ノートブックの出力を見やすくするための警告メッセージを減らす\nwarnings.showwarning = lambda *args, **kwargs: None\n\nfrom azureml.core.workspace import Workspace\nfrom azureml.core.experiment import Experiment\nfrom azureml.train.automl import AutoMLConfig\nfrom azureml.train.automl.run import AutoMLRun\nfrom matplotlib import pyplot as plt\nfrom sklearn.metrics import mean_absolute_error, mean_squared_error, r2_score",
      "execution_count": null,
      "outputs": []
    },
    {
      "metadata": {},
      "cell_type": "markdown",
      "source": "### 設定ファイルを確認する\nconfig.jsonファイルを読み、実験用ワークスペース、サブスクリプションなどが正しく定義されていることを確認します。"
    },
    {
      "metadata": {
        "trusted": true
      },
      "cell_type": "code",
      "source": "# ワークスペースの取得\nws = Workspace.from_config()\n\n# ワークスペースで実行履歴コンテナの名前を選択\nexperiment_name = 'automl-energydemandforecasting'\n# プロジェクトフォルダー\nproject_folder = './sample_projects/automl-local-energydemandforecasting'\n\nexperiment = Experiment(ws, experiment_name)\n\noutput = {}\noutput['SDK version'] = azureml.core.VERSION\noutput['Subscription ID'] = ws.subscription_id\noutput['Workspace'] = ws.name\noutput['Resource Group'] = ws.resource_group\noutput['Location'] = ws.location\noutput['Project Directory'] = project_folder\noutput['Run History Name'] = experiment_name\npd.set_option('display.max_colwidth', -1)\noutputDf = pd.DataFrame(data = output, index = [''])\noutputDf.T",
      "execution_count": null,
      "outputs": []
    },
    {
      "metadata": {},
      "cell_type": "markdown",
      "source": "# データ\nエネルギー需要データをファイルから読み取り、データをプレビューします。"
    },
    {
      "metadata": {
        "trusted": true
      },
      "cell_type": "code",
      "source": "data = pd.read_csv(\"nyc_energy.csv\", parse_dates=['timeStamp'])\ndata.head()",
      "execution_count": null,
      "outputs": []
    },
    {
      "metadata": {
        "trusted": true
      },
      "cell_type": "code",
      "source": "display(data.describe().T)\ndata.demand.hist()",
      "execution_count": null,
      "outputs": []
    },
    {
      "metadata": {},
      "cell_type": "markdown",
      "source": "## データを分割する\n2017年2月1日以降のデータをテストデータセットとして確保しています。それより古いすべてのデータはトレーニングデータとします。"
    },
    {
      "metadata": {
        "trusted": true
      },
      "cell_type": "code",
      "source": "train = data[data['timeStamp'] < '2017-02-01']\ntest = data[data['timeStamp'] >= '2017-02-01']",
      "execution_count": null,
      "outputs": []
    },
    {
      "metadata": {},
      "cell_type": "markdown",
      "source": "## テストデータを用意し、X_test をモデルに渡して予測を取得する"
    },
    {
      "metadata": {
        "trusted": true
      },
      "cell_type": "code",
      "source": "y_test = test.pop('demand').values\nX_test = test",
      "execution_count": null,
      "outputs": []
    },
    {
      "metadata": {},
      "cell_type": "markdown",
      "source": "## データを訓練データと評価データとに分割する\n1か月分のデータを評価データとして使用します。"
    },
    {
      "metadata": {
        "trusted": true
      },
      "cell_type": "code",
      "source": "X_train = train[train['timeStamp'] < '2017-01-01']\nX_valid = train[train['timeStamp'] >= '2017-01-01']\ny_train = X_train.pop('demand').values\ny_valid = X_valid.pop('demand').values\nprint(X_train.shape)\nprint(y_train.shape)\nprint(X_valid.shape)\nprint(y_valid.shape)",
      "execution_count": null,
      "outputs": []
    },
    {
      "metadata": {},
      "cell_type": "markdown",
      "source": "# Automated ML を使って学習する\nAutomated MLを構成し実行して、機械学習モデルを生成します。トレーニングジョブは、Azure Notebooks によって提供および管理されている VM 上で実行されます。実験用に定義できる設定パラメータはたくさんあります。  \n詳しくは [ドキュメント](https://docs.microsoft.com/en-us/azure/machine-learning/service/how-to-configure-auto-train) を読んでください。"
    },
    {
      "metadata": {},
      "cell_type": "markdown",
      "source": "## Automated ML の実験を設定する"
    },
    {
      "metadata": {
        "trusted": true
      },
      "cell_type": "code",
      "source": "# 時系列の列を設定する\ntime_column_name = 'timeStamp'\nautoml_settings = {\n    \"time_column_name\": time_column_name,\n}\n\n# 設定オブジェクトを作成する\nautoml_config = AutoMLConfig(task = 'forecasting',\n                             debug_log = 'automl_nyc_energy_errors.log',\n                             primary_metric='normalized_root_mean_squared_error',\n                             iterations = 5,\n                             iteration_timeout_minutes = 10,\n                             X = X_train,\n                             y = y_train,\n                             X_valid = X_valid,\n                             y_valid = y_valid,\n                             path=project_folder,               \n                             blacklist_models = ['RandomForest'],\n                             verbosity = logging.INFO,\n                             **automl_settings)",
      "execution_count": null,
      "outputs": []
    },
    {
      "metadata": {},
      "cell_type": "markdown",
      "source": "実験オブジェクトの submit メソッドを呼び出して実行の設定を渡すことができます。ローカル実行の場合、実行は同期的です。データと反復回数に応じて、実行にはしばらく時間がかかります。\n現在実行中のイテレーションがコンソールに表示されます。"
    },
    {
      "metadata": {
        "trusted": true
      },
      "cell_type": "code",
      "source": "local_run = experiment.submit(automl_config, show_output=True)",
      "execution_count": null,
      "outputs": []
    },
    {
      "metadata": {
        "trusted": true
      },
      "cell_type": "code",
      "source": "# 実行の概要を表示する\nlocal_run",
      "execution_count": null,
      "outputs": []
    },
    {
      "metadata": {
        "trusted": true
      },
      "cell_type": "markdown",
      "source": "## 実行監視用ウィジェット\n\n**訳注** ノートブックを Jupyter Lab で実行している場合は、次のセルは実行に失敗するかもしれません。"
    },
    {
      "metadata": {
        "trusted": true
      },
      "cell_type": "code",
      "source": "from azureml.widgets import RunDetails\nRunDetails(local_run).show()",
      "execution_count": null,
      "outputs": []
    },
    {
      "metadata": {},
      "cell_type": "markdown",
      "source": "## 下位の実行を全て取得する"
    },
    {
      "metadata": {
        "trusted": true
      },
      "cell_type": "code",
      "source": "children = list(local_run.get_children())\nmetricslist = {}\nfor run in children:\n    properties = run.get_properties()\n    metrics = {k: v for k, v in run.get_metrics().items() if isinstance(v, float)}\n    metricslist[int(properties['iteration'])] = metrics\n\nrundata = pd.DataFrame(metricslist).sort_index(1)\nrundata",
      "execution_count": null,
      "outputs": []
    },
    {
      "metadata": {
        "trusted": true,
        "collapsed": true
      },
      "cell_type": "code",
      "source": "",
      "execution_count": null,
      "outputs": []
    },
    {
      "metadata": {},
      "cell_type": "markdown",
      "source": "## 最良のモデルを取得する\n以下で、繰り返し実行した中から最適なモデルを選択します。get_output メソッドは、最良の実行結果と近似モデルを返します。モデルにはパイプラインと前処理が含まれています。get_output のオーバーロードを使用すると、ログに記録されたメトリックまたは特定の反復に対して最適な実行モデルと適合モデルを取得できます。"
    },
    {
      "metadata": {
        "trusted": true
      },
      "cell_type": "code",
      "source": "best_run, fitted_model = local_run.get_output()\nprint(best_run)\nprint(fitted_model)",
      "execution_count": null,
      "outputs": []
    },
    {
      "metadata": {},
      "cell_type": "markdown",
      "source": "## 他のメトリックに基づいた最良のモデル\nlog_loss 値が最小の実行とモデルを表示します。"
    },
    {
      "metadata": {
        "trusted": true
      },
      "cell_type": "code",
      "source": "lookup_metric = \"r2_score\"\nbest_run, fitted_model = local_run.get_output(metric = lookup_metric)\nprint(best_run)\nprint(fitted_model)",
      "execution_count": null,
      "outputs": []
    },
    {
      "metadata": {},
      "cell_type": "markdown",
      "source": "# 特定のイテレーションからのモデル\n3回目の反復からの実行とモデルを表示します。"
    },
    {
      "metadata": {
        "trusted": true
      },
      "cell_type": "code",
      "source": "iteration = 3\nthird_run, third_model = local_run.get_output(iteration = iteration)\nprint(third_run)\nprint(third_model)",
      "execution_count": null,
      "outputs": []
    },
    {
      "metadata": {},
      "cell_type": "markdown",
      "source": "## さらに実験を続ける（オプション）\n必要に応じて、中断したところから再開して、さらに反復を続けることができます。"
    },
    {
      "metadata": {
        "trusted": true
      },
      "cell_type": "code",
      "source": "# 中断したところから訓練を続ける\nlocal_run.continue_experiment(X=X_train, y=y_train,X_valid = X_valid,y_valid = y_valid,iterations = 2)\nfrom azureml.widgets import RunDetails\nRunDetails(local_run).show()",
      "execution_count": null,
      "outputs": []
    },
    {
      "metadata": {},
      "cell_type": "markdown",
      "source": "## 最良のモデルの説明を取得する\nモデルの説明可能性は、機能とその重要性を理解するために重要です。これはモデルの説明可能性を取得します。"
    },
    {
      "metadata": {
        "trusted": true
      },
      "cell_type": "code",
      "source": "# 以下は、コメントアウトしています。実行にはしばらく時間がかかるので、ワークショップの時間帯ではなく、あとで実行してください。\n\n#from azureml.train.automl.automlexplainer import explain_model\n#shap_values, expected_values, overall_summary, overall_imp, per_class_summary, per_class_imp = \\\n#   explain_model(fitted_model, X_train, X_test, best_run)",
      "execution_count": null,
      "outputs": []
    },
    {
      "metadata": {},
      "cell_type": "markdown",
      "source": "# 一番フィットしたモデルをテストする\nトレーニングとテストセットを予測し、残差値を計算します。"
    },
    {
      "metadata": {
        "trusted": true
      },
      "cell_type": "code",
      "source": "y_pred = fitted_model.predict(X_test)\ny_pred",
      "execution_count": null,
      "outputs": []
    },
    {
      "metadata": {},
      "cell_type": "markdown",
      "source": "# メトリクス計算時のエラーを避けるために、y_test から nan 値を取り除くために Check Data 関数を使う"
    },
    {
      "metadata": {
        "trusted": true
      },
      "cell_type": "code",
      "source": "if len(y_test) != len(y_pred):\n    raise ValueError(\n        'the true values and prediction values do not have equal length.')\nelif len(y_test) == 0:\n    raise ValueError(\n        'y_true and y_pred are empty.')\n\n# y_true, y_pred に数値以外の要素がある場合に、ValueError 例外が発生する\ny_test_f = np.array(y_test).astype(float)\ny_pred_f = np.array(y_pred).astype(float)\n\n# y_true, y_pred　のどちらか一方でも要素が欠落している場合に、エントリーを削除する\ny_test = y_test_f[~(np.isnan(y_test_f) | np.isnan(y_pred_f))]\ny_pred = y_pred_f[~(np.isnan(y_test_f) | np.isnan(y_pred_f))]",
      "execution_count": null,
      "outputs": []
    },
    {
      "metadata": {},
      "cell_type": "markdown",
      "source": "# 実際のデータと比較するために予測をプロットします"
    },
    {
      "metadata": {
        "trusted": true
      },
      "cell_type": "code",
      "source": "print(\"[Test Data] \\nRoot Mean squared error: %.2f\" % np.sqrt(mean_squared_error(y_test, y_pred)))\n# Explained Variance Score: 1 が完全な予測\nprint('mean_absolute_error score: %.2f' % mean_absolute_error(y_test, y_pred))\nprint('R2 score: %.2f' % r2_score(y_test, y_pred))\n\n# Plot outputs\ntest_pred = plt.scatter(y_test, y_pred, color='b')\ntest_test = plt.scatter(y_test, y_test, color='g')\nplt.legend((test_pred, test_test), ('prediction', 'truth'), loc='upper left', fontsize=8)\nplt.show()",
      "execution_count": null,
      "outputs": []
    },
    {
      "metadata": {},
      "cell_type": "markdown",
      "source": "# デプロイ\nモデルを Azure Container インスタンスに展開して、新しいデータに対する推論を可能にする\n\n## モデルを登録する\n最善のモデルを AML Service に登録する"
    },
    {
      "metadata": {
        "trusted": true
      },
      "cell_type": "code",
      "source": "model = local_run.register_model(description = 'automated ml model for energy demand forecasting', tags = {'ml': \"Forecasting\", 'type': \"automl\"})\nprint(local_run.model_id) # この値は後でノートブックのスクリプトファイルに書き込みます。",
      "execution_count": null,
      "outputs": []
    },
    {
      "metadata": {},
      "cell_type": "markdown",
      "source": "## スコア取得用のスクリプトを作成する\n以下は、予測のために新しいデータでモデルを実行するために使用されます。"
    },
    {
      "metadata": {
        "trusted": true
      },
      "cell_type": "code",
      "source": "%%writefile score_energy_demand.py\nimport pickle\nimport json\nimport numpy as np\nimport azureml.train.automl\nfrom sklearn.externals import joblib\nfrom azureml.core.model import Model\n\ndef init():\n    global model\n    model_path = Model.get_model_path(model_name = '<<modelid>>') # this name is model.id of model that we want to deploy\n    # deserialize the model file back into a sklearn model\n    model = joblib.load(model_path)\n\ndef run(timestamp,precip,temp):\n    try:\n        rawdata = json.dumps({timestamp, precip, temp})\n        data = json.loads(rawdata)\n        data_arr = numpy.array(data)\n        result = model.predict(data_arr)\n        # result = json.dumps({'timeStamp':timestamp, 'precip':precip, 'temp':temp})\n    except Exception as e:\n        result = str(e)\n        return json.dumps({\"error\": result})\n    return json.dumps({\"result\":result.tolist()})",
      "execution_count": null,
      "outputs": []
    },
    {
      "metadata": {},
      "cell_type": "markdown",
      "source": "## 環境用の YAML ファイルを作成する\nYAML ファイルはデプロイされたイメージに conda 環境を設定するために使用されます。"
    },
    {
      "metadata": {
        "trusted": true
      },
      "cell_type": "code",
      "source": "# 依存関係を取得する\nexperiment = Experiment(ws, experiment_name)\nml_run = AutoMLRun(experiment = experiment, run_id = local_run.id)\ndependencies = ml_run.get_run_sdk_dependencies(iteration = 0)\nfor p in ['azureml-train-automl', 'azureml-sdk', 'azureml-core']:\n    print('{}\\t{}'.format(p, dependencies[p]))",
      "execution_count": null,
      "outputs": []
    },
    {
      "metadata": {
        "trusted": true
      },
      "cell_type": "code",
      "source": "# 環境ファイルを作成する\n\nfrom azureml.core.conda_dependencies import CondaDependencies \n\nmyenv = CondaDependencies.create(conda_packages=['numpy','scikit-learn'], pip_packages=[\"azureml-train-automl\"])\nprint(myenv.serialize_to_string())\n\nconda_env_file_name = 'my_conda_env.yml'\nmyenv.save_to_file('.', conda_env_file_name)",
      "execution_count": null,
      "outputs": []
    },
    {
      "metadata": {
        "trusted": true
      },
      "cell_type": "code",
      "source": "# 環境ファイルの実際のバージョン番号を代入します。\n# このノートブックでは、モデルは現在の SDK バージョンを使用して生成されているため、以下は厳密には必要ありません。\n# ただし、このコードが以前の SDK バージョンの実験で使用される場合に備えて、このセルを含めます。\n\nwith open(conda_env_file_name, 'r') as cefr:\n    content = cefr.read()\n\nwith open(conda_env_file_name, 'w') as cefw:\n    cefw.write(content.replace(azureml.core.VERSION, dependencies['azureml-sdk']))\n\n\n# \"modelid\" の箇所は、スクリプトファイルの実際のモデル ID で置き換えられます。\n\nscript_file_name = 'score_energy_demand.py'\n\nwith open(script_file_name, 'r') as cefr:\n    content = cefr.read()\n\nwith open(script_file_name, 'w') as cefw:\n    cefw.write(content.replace('<<modelid>>', local_run.model_id))",
      "execution_count": null,
      "outputs": []
    },
    {
      "metadata": {},
      "cell_type": "markdown",
      "source": "## スキーマファイルを生成する\nスキーマファイルは、デプロイされた Web サービスの REST API を定義するために使用されるため、Power BI などの「Swagger 対応」サービスから利用できます。"
    },
    {
      "metadata": {
        "trusted": true
      },
      "cell_type": "code",
      "source": "from azureml.webservice_schema.sample_definition import SampleDefinition\nfrom azureml.webservice_schema.data_types import DataTypes\nfrom azureml.webservice_schema.schema_generation import generate_schema\n\nschema_file_name = './schema.json'\ndef run(timestamp,precip,temp):\n    return \"OK\"\n\nimport numpy as np\ngenerate_schema(run, inputs={\n    \"timestamp\" : SampleDefinition(DataTypes.STANDARD, '2012-01-01 00:00:00'),\n    \"precip\" : SampleDefinition(DataTypes.STANDARD, '0.0'),\n    \"temp\" : SampleDefinition(DataTypes.STANDARD, '0.0')}, \n    filepath=schema_file_name)",
      "execution_count": null,
      "outputs": []
    },
    {
      "metadata": {},
      "cell_type": "markdown",
      "source": "## 追加の依存関係をイメージに含めるために Docker ファイルを作成する\nコンテナイメージはモデルに基づき、コンテナインスタンスをデプロイするために使用されます。"
    },
    {
      "metadata": {
        "trusted": true
      },
      "cell_type": "code",
      "source": "%%writefile docker_steps.dockerfile\nRUN apt-get update && \\\n    apt-get upgrade -y && \\\n    apt-get install -y build-essential gcc g++ python-dev unixodbc unixodbc-dev",
      "execution_count": null,
      "outputs": []
    },
    {
      "metadata": {
        "trusted": true
      },
      "cell_type": "code",
      "source": "docker_file_name = \"docker_steps.dockerfile\"",
      "execution_count": null,
      "outputs": []
    },
    {
      "metadata": {},
      "cell_type": "markdown",
      "source": "## コンテナイメージを作成する\nコンテナイメージはモデルに基づき、コンテナインスタンスをデプロイするために使用されます。"
    },
    {
      "metadata": {
        "trusted": true
      },
      "cell_type": "code",
      "source": "from azureml.core.image import Image, ContainerImage\n\nimage_config = ContainerImage.image_configuration(runtime= \"python\",\n                                 execution_script = script_file_name,\n                                 docker_file = docker_file_name,\n                                 schema_file = schema_file_name,\n                                 conda_file = conda_env_file_name,\n                                 tags = {'ml': \"Forecasting\", 'type': \"automl\"},\n                                 description = \"Image for automated ml energy demand forecasting predictions\")\n\nimage = Image.create(name = \"automlenergyforecasting\",\n                     models = [model],\n                     image_config = image_config, \n                     workspace = ws)\n\nimage.wait_for_creation(show_output = True)",
      "execution_count": null,
      "outputs": []
    },
    {
      "metadata": {},
      "cell_type": "markdown",
      "source": "## Web サービスとして Azure コンテナインスタンスにイメージをデプロイする"
    },
    {
      "metadata": {
        "trusted": true
      },
      "cell_type": "code",
      "source": "from azureml.core.webservice import AciWebservice\n\naciconfig = AciWebservice.deploy_configuration(cpu_cores = 1, \n                                               memory_gb = 1, \n                                               tags = {'ml': \"Forecasting\", 'type': \"automl\"}, \n                                               description = 'ACI service for automated ml energy demand forecasting predictions')",
      "execution_count": null,
      "outputs": []
    },
    {
      "metadata": {
        "trusted": true
      },
      "cell_type": "code",
      "source": "from azureml.core.webservice import Webservice\n\naci_service_name = 'automlenergyforecasting1'\nprint(aci_service_name)\naci_service = Webservice.deploy_from_image(deployment_config = aciconfig,\n                                           image = image,\n                                           name = aci_service_name,\n                                           workspace = ws)\naci_service.wait_for_deployment(True)\nprint(aci_service.state)",
      "execution_count": null,
      "outputs": []
    },
    {
      "metadata": {},
      "cell_type": "markdown",
      "source": "# まとめ\n\nこのワークショップでは、以下を実行しました:  \n* トレーニング用のCSVファイルをインポート  \n* テストと検証のためにデータを分割  \n* Automated ML の実験を構成  \n* Automated ML の実験を実行\n* 結果を確認\n* 最善のモデルを予測のプロットを取得\n* モデルを Web サービスとしてデプロイして新しい推論を行えるようにする"
    },
    {
      "metadata": {
        "trusted": true
      },
      "cell_type": "markdown",
      "source": "# リソース\nAutomated ML および Azure Machine Learning のリソース\n\n* AskAutomatedML@microsoft.com\n* https://aka.ms/AutomatedML\n* https://aka.ms/AutomatedMLDocs\n* https://github.com/Azure/MachineLearningNotebooks"
    }
  ],
  "metadata": {
    "kernelspec": {
      "name": "python36",
      "display_name": "Python 3.6",
      "language": "python"
    },
    "language_info": {
      "mimetype": "text/x-python",
      "nbconvert_exporter": "python",
      "name": "python",
      "pygments_lexer": "ipython3",
      "version": "3.6.6",
      "file_extension": ".py",
      "codemirror_mode": {
        "version": 3,
        "name": "ipython"
      }
    }
  },
  "nbformat": 4,
  "nbformat_minor": 2
}